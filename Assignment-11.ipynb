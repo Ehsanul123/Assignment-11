{
 "cells": [
  {
   "cell_type": "code",
   "execution_count": 3,
   "id": "5167076a",
   "metadata": {
    "scrolled": true
   },
   "outputs": [
    {
     "name": "stdout",
     "output_type": "stream",
     "text": [
      "Enter number : -1\n",
      "x is a  negative number.\n"
     ]
    }
   ],
   "source": [
    "#1:\n",
    "x = int(input(\"Enter number : \"))\n",
    "assert x < 0\n",
    "print('x is a  negative number.')"
   ]
  },
  {
   "cell_type": "code",
   "execution_count": 12,
   "id": "43c40da4",
   "metadata": {},
   "outputs": [],
   "source": [
    "#2:\n",
    "eggs = 'hello'\n",
    "bacon = 'good bye'\n",
    "assert eggs.lower() != bacon.lower(), 'The eggs and bacon variables are the same!'"
   ]
  },
  {
   "cell_type": "code",
   "execution_count": 13,
   "id": "9700a995",
   "metadata": {},
   "outputs": [],
   "source": [
    "#3:\n",
    "assert True, 'Always triggers an AssertionError'"
   ]
  },
  {
   "cell_type": "code",
   "execution_count": 14,
   "id": "9af24163",
   "metadata": {},
   "outputs": [],
   "source": [
    "#4:\n",
    "import logging\n",
    "logging.basicConfig(level=logging.DEBUG, format=' %(asctime)s ,%(levelname)s , %(message)s')"
   ]
  },
  {
   "cell_type": "code",
   "execution_count": null,
   "id": "daec383d",
   "metadata": {},
   "outputs": [],
   "source": [
    "#5:\n",
    "import logging\n",
    "\n",
    "logging.basicConfig(filename='programLog.txt', level=logging.DEBUG,format=' %(asctime)s - %(levelname)s - %(message)s')"
   ]
  },
  {
   "cell_type": "code",
   "execution_count": null,
   "id": "f16a5510",
   "metadata": {},
   "outputs": [],
   "source": [
    "#6:\n",
    "Five level of logging:\n",
    "    DEBUG, INFO, WARNING, ERROR, and CRITICAL"
   ]
  },
  {
   "cell_type": "code",
   "execution_count": 15,
   "id": "defa4dfa",
   "metadata": {},
   "outputs": [],
   "source": [
    "#7:\n",
    "logging.disable(logging.CRITICAL)"
   ]
  },
  {
   "cell_type": "code",
   "execution_count": null,
   "id": "d88f0355",
   "metadata": {},
   "outputs": [],
   "source": [
    "#8:\n",
    "You can disable logging messages without removing the logging function calls.\n",
    "You can selectively disable lower-level logging messages.\n",
    "You can create logging messages. Logging messages provides a timestamp"
   ]
  },
  {
   "cell_type": "code",
   "execution_count": null,
   "id": "f318833c",
   "metadata": {},
   "outputs": [],
   "source": [
    "#9:\n",
    "Step over – An action to take in the debugger that will step over a given line. If the line contains a function the\n",
    "function will be executed and the result returned without debugging each line.\n",
    "\n",
    "Step into – An action to take in the debugger. If the line does not contain a function it behaves the same as \n",
    "“step over” but if it does the debugger will enter the called function and continue line-by-line debugging there.\n",
    "\n",
    "Step out – An action to take in the debugger that returns to the line where the current function was called."
   ]
  },
  {
   "cell_type": "code",
   "execution_count": null,
   "id": "4e0e7874",
   "metadata": {},
   "outputs": [],
   "source": [
    "#10:\n",
    "Go runs until the program terminate or reaches a breakpoint set."
   ]
  },
  {
   "cell_type": "code",
   "execution_count": null,
   "id": "03a89619",
   "metadata": {},
   "outputs": [],
   "source": [
    "#11:\n",
    "A breakpoint can be set on a specific line of code and forces the debugger to pause whenever the program execution reaches that\n",
    "line"
   ]
  }
 ],
 "metadata": {
  "kernelspec": {
   "display_name": "Python 3 (ipykernel)",
   "language": "python",
   "name": "python3"
  },
  "language_info": {
   "codemirror_mode": {
    "name": "ipython",
    "version": 3
   },
   "file_extension": ".py",
   "mimetype": "text/x-python",
   "name": "python",
   "nbconvert_exporter": "python",
   "pygments_lexer": "ipython3",
   "version": "3.9.7"
  }
 },
 "nbformat": 4,
 "nbformat_minor": 5
}
